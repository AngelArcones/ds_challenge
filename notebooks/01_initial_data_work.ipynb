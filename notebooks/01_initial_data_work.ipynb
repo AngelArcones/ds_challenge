{
 "cells": [
  {
   "cell_type": "markdown",
   "metadata": {},
   "source": [
    "# Excercise 1: prepare and visualize data  \n",
    "The first piece of work will consist on working with Land Cover data for 2000 and 2018 from the [ESA platform](http://maps.elie.ucl.ac.be/CCI/viewer/). This data has previously been uploaded to GEE for use.  \n",
    "Additionally, the work here involves the Soil Organic Carbon (SOC) map layers from SoilsRevealed to calculate changes in SOC for the period 2000-2018."
   ]
  },
  {
   "cell_type": "markdown",
   "metadata": {},
   "source": [
    "## Load libraries"
   ]
  },
  {
   "cell_type": "code",
   "execution_count": 52,
   "metadata": {},
   "outputs": [],
   "source": [
    "# Library Imports\n",
    "import json\n",
    "\n",
    "import ee\n",
    "import geemap\n",
    "import matplotlib.pyplot as plt\n",
    "import pandas as pd\n",
    "import plotly.express as px\n",
    "from ipyleaflet import DrawControl, TileLayer"
   ]
  },
  {
   "cell_type": "code",
   "execution_count": 2,
   "metadata": {},
   "outputs": [],
   "source": [
    "# ee.Authenticate()\n",
    "ee.Initialize()"
   ]
  },
  {
   "cell_type": "markdown",
   "metadata": {},
   "source": [
    "## 1) Prepare and visualize the data"
   ]
  },
  {
   "cell_type": "markdown",
   "metadata": {},
   "source": [
    "### 1.1) Calculate differences in SOC data  \n",
    "Read the image colection from SoilsRevealed project and calculate the differences between the two time steps."
   ]
  },
  {
   "cell_type": "code",
   "execution_count": 3,
   "metadata": {},
   "outputs": [],
   "source": [
    "soc_stock_collection = ee.ImageCollection(\"projects/soils-revealed/Recent/SOC_stock_nov2020\")\n",
    "\n",
    "# Sort the collection by 'system:time_start' property in ascending order\n",
    "sorted_collection = soc_stock_collection.sort(\"system:time_start\")\n",
    "\n",
    "# Select the first and last images in the sorted collection\n",
    "first_image = sorted_collection.first()\n",
    "last_image = sorted_collection.sort(\"system:time_start\", False).first()\n",
    "\n",
    "# Calculate the difference between the first and last images\n",
    "soc_stock_change = last_image.subtract(first_image)"
   ]
  },
  {
   "cell_type": "markdown",
   "metadata": {},
   "source": [
    "Prepare initial map visualization"
   ]
  },
  {
   "cell_type": "code",
   "execution_count": 4,
   "metadata": {},
   "outputs": [
    {
     "data": {
      "application/vnd.jupyter.widget-view+json": {
       "model_id": "8ad4f5d0cdee4c9c8f1eccbdb3044b4c",
       "version_major": 2,
       "version_minor": 0
      },
      "text/plain": [
       "Map(center=[66.7, 49.2], controls=(WidgetControl(options=['position', 'transparent_bg'], widget=HBox(children=…"
      ]
     },
     "execution_count": 4,
     "metadata": {},
     "output_type": "execute_result"
    }
   ],
   "source": [
    "color_ramp = [\n",
    "    \"#B30200\",  # -10\n",
    "    \"#E34A33\",  # -7.5\n",
    "    \"#FC8D59\",  # -5\n",
    "    \"#FDCC8A\",  # -2.5\n",
    "    \"#FFFFCC\",  # 0\n",
    "    \"#A1DAB4\",  # 2.5\n",
    "    \"#31B3BD\",  # 5\n",
    "    \"#1C9099\",  # 7.5\n",
    "    \"#066C59\",  # 10\n",
    "]\n",
    "# Define the visualization parameters\n",
    "vis_params = {\"min\": -10, \"max\": 10, \"palette\": color_ramp}\n",
    "\n",
    "center = (66.7, 49.2)\n",
    "zoom = 7  # Zoom level for the map\n",
    "map_soc = geemap.Map(center=center, zoom=zoom, basemap=\"CartoDB.PositronNoLabels\")\n",
    "\n",
    "# Add the SOC stock change layer as a tile layer\n",
    "soc_stock_change_tile = TileLayer(\n",
    "    url=soc_stock_change.getMapId(vis_params)[\"tile_fetcher\"].url_format,\n",
    "    attribution=\"Google Earth Engine\",\n",
    "    name=\"SOC Stock Change\",\n",
    "    opacity=1.0,\n",
    ")\n",
    "map_soc.add_layer(soc_stock_change_tile)\n",
    "map_soc"
   ]
  },
  {
   "cell_type": "markdown",
   "metadata": {},
   "source": [
    "### 1.2) Visualize Land Cover data  \n",
    "Load and visualize the two Land Cover layers uploaded to GEE."
   ]
  },
  {
   "cell_type": "code",
   "execution_count": 5,
   "metadata": {},
   "outputs": [],
   "source": [
    "lc_2000 = ee.Image(\"projects/ee-angelarcones/assets/Land_Cover_2000\")\n",
    "lc_2018 = ee.Image(\"projects/ee-angelarcones/assets/Land_Cover_2018\")"
   ]
  },
  {
   "cell_type": "code",
   "execution_count": 51,
   "metadata": {},
   "outputs": [],
   "source": [
    "# Land Cover classes and colors\n",
    "sld_ramp = \"\"\"\n",
    "<RasterSymbolizer>\n",
    "  <ColorMap type=\"ramp\" extended=\"false\">\n",
    "    <ColorMapEntry color=\"#5b5b18\" quantity=\"10\" label=\"Cropland rainfed\" />\n",
    "    <ColorMapEntry color=\"#7d7617\" quantity=\"11\" label=\"Cropland rainfed herbaceous\" />\n",
    "    <ColorMapEntry color=\"#124d00\" quantity=\"12\" label=\"Cropland rainfed tree or shrub\" />\n",
    "    <ColorMapEntry color=\"#a09113\" quantity=\"20\" label=\"Cropland irrigation or post-flood\" />\n",
    "    <ColorMapEntry color=\"#c0ab10\" quantity=\"30\" label=\"Mosaic cropland\" />\n",
    "    <ColorMapEntry color=\"#dfc30c\" quantity=\"40\" label=\"Mosaic natural vegetation\" />\n",
    "    <ColorMapEntry color=\"#136010\" quantity=\"50\" label=\"Tree broadleaved evergreen closed to open\" />\n",
    "    <ColorMapEntry color=\"#117221\" quantity=\"60\" label=\"Tree broadleaved decidious closed to open\" />\n",
    "    <ColorMapEntry color=\"#0b842f\" quantity=\"61\" label=\"Tree broadleaved decidious closed\" />\n",
    "    <ColorMapEntry color=\"#2a9339\" quantity=\"62\" label=\"Tree broadleaved decidious open\" />\n",
    "    <ColorMapEntry color=\"#4aa040\" quantity=\"70\" label=\"Tree needle evergreen closed to open\" />\n",
    "    <ColorMapEntry color=\"#91c357\" quantity=\"80\" label=\"Tree needle decidious closed to open\" />\n",
    "    <ColorMapEntry color=\"#a5ce5f\" quantity=\"81\" label=\"Tree needle decidious closed\" />\n",
    "    <ColorMapEntry color=\"#b9d867\" quantity=\"82\" label=\"Tree needle decidious open\" />\n",
    "    <ColorMapEntry color=\"#cce36f\" quantity=\"90\" label=\"Tree mixed\" />\n",
    "    <ColorMapEntry color=\"#e0ed78\" quantity=\"100\" label=\"Mosaic tree and shrubland\" />\n",
    "    <ColorMapEntry color=\"#967216\" quantity=\"110\" label=\"Mosaic herbaceous\" />\n",
    "    <ColorMapEntry color=\"#a67d1a\" quantity=\"120\" label=\"Shrubland\" />\n",
    "    <ColorMapEntry color=\"#b6881f\" quantity=\"121\" label=\"Shrubland evergreen\" />\n",
    "    <ColorMapEntry color=\"#c69323\" quantity=\"122\" label=\"Shrubland decidious\" />\n",
    "    <ColorMapEntry color=\"#d69e27\" quantity=\"130\" label=\"Grassland\" />\n",
    "    <ColorMapEntry color=\"#e6a82b\" quantity=\"140\" label=\"Lichens and mosses\" />\n",
    "    <ColorMapEntry color=\"#f6b148\" quantity=\"150\" label=\"Sparse vegetation\" />\n",
    "    <ColorMapEntry color=\"#febc7a\" quantity=\"151\" label=\"Sparse tree\" />\n",
    "    <ColorMapEntry color=\"#ffcaaa\" quantity=\"152\" label=\"Sparse shrub\" />\n",
    "    <ColorMapEntry color=\"#f8dcd3\" quantity=\"153\" label=\"Sparse herbaceous\" />\n",
    "    <ColorMapEntry color=\"#016a6d\" quantity=\"160\" label=\"Tree cover flooded fresh or brackish water\" />\n",
    "    <ColorMapEntry color=\"#42ded5\" quantity=\"170\" label=\"Tree cover flooded saline water\" />\n",
    "    <ColorMapEntry color=\"#35adad\" quantity=\"180\" label=\"Shrub or herb cover flood\" />\n",
    "    <ColorMapEntry color=\"#3640b7\" quantity=\"190\" label=\"Urban\" />\n",
    "    <ColorMapEntry color=\"#df704f\" quantity=\"200\" label=\"Bare areas\" />\n",
    "    <ColorMapEntry color=\"#c54802\" quantity=\"201\" label=\"Bare areas consolidated\" />\n",
    "    <ColorMapEntry color=\"#fd9ca7\" quantity=\"202\" label=\"Bare areas unconsolidated\" />\n",
    "    <ColorMapEntry color=\"#48a7ff\" quantity=\"210\" label=\"Water bodies\" />\n",
    "    <ColorMapEntry color=\"#b9eeef\" quantity=\"220\" label=\"Snow and ice\" />\n",
    "  </ColorMap>\n",
    "</RasterSymbolizer>\n",
    "\"\"\"  # noqa: E501"
   ]
  },
  {
   "cell_type": "code",
   "execution_count": 7,
   "metadata": {},
   "outputs": [
    {
     "data": {
      "application/vnd.jupyter.widget-view+json": {
       "model_id": "158b2841a7fa487cb26e73bc7bf41f43",
       "version_major": 2,
       "version_minor": 0
      },
      "text/plain": [
       "Map(center=[38, -0.8], controls=(WidgetControl(options=['position', 'transparent_bg'], widget=HBox(children=(T…"
      ]
     },
     "execution_count": 7,
     "metadata": {},
     "output_type": "execute_result"
    }
   ],
   "source": [
    "center = (38, -0.8)  # Southeast of Spain\n",
    "zoom = 10\n",
    "map_lc = geemap.Map(center=center, zoom=zoom, basemap=\"CartoDB.PositronNoLabels\")\n",
    "\n",
    "\n",
    "lc_2000_tile = TileLayer(\n",
    "    url=lc_2000.sldStyle(sld_ramp).getMapId()[\"tile_fetcher\"].url_format,\n",
    "    attribution=\"Google Earth Engine\",\n",
    "    name=\"Landcover 2000\",\n",
    "    opacity=1.0,\n",
    ")\n",
    "map_lc.add_layer(lc_2000_tile)\n",
    "\n",
    "lc_2018_tile = TileLayer(\n",
    "    url=lc_2018.sldStyle(sld_ramp).getMapId()[\"tile_fetcher\"].url_format,\n",
    "    attribution=\"Google Earth Engine\",\n",
    "    name=\"Landcover 2018\",\n",
    "    opacity=1.0,\n",
    ")\n",
    "map_lc.add_layer(lc_2018_tile)\n",
    "\n",
    "map_lc"
   ]
  },
  {
   "cell_type": "markdown",
   "metadata": {},
   "source": [
    "## 2) Draw area and extract data"
   ]
  },
  {
   "cell_type": "code",
   "execution_count": 8,
   "metadata": {},
   "outputs": [],
   "source": [
    "# Prepare map and load layers\n",
    "center = (38, -0.8)\n",
    "zoom = 10\n",
    "m = geemap.Map(center=center, zoom=zoom, basemap=\"CartoDB.PositronNoLabels\")\n",
    "m.add_layer(soc_stock_change_tile)\n",
    "m.add_layer(lc_2000_tile)\n",
    "m.add_layer(lc_2018_tile)"
   ]
  },
  {
   "cell_type": "code",
   "execution_count": 9,
   "metadata": {},
   "outputs": [
    {
     "data": {
      "application/vnd.jupyter.widget-view+json": {
       "model_id": "227b336097354a4782024bd28b13d0f3",
       "version_major": 2,
       "version_minor": 0
      },
      "text/plain": [
       "Map(center=[38, -0.8], controls=(WidgetControl(options=['position', 'transparent_bg'], widget=HBox(children=(T…"
      ]
     },
     "execution_count": 9,
     "metadata": {},
     "output_type": "execute_result"
    }
   ],
   "source": [
    "## Add a drawing control to the map\n",
    "polygon_style = {\"color\": \"black\", \"weight\": 4, \"fillOpacity\": 0}\n",
    "rectangle_style = {\"color\": \"red\", \"weight\": 4, \"fillOpacity\": 0}\n",
    "\n",
    "draw_control = DrawControl(\n",
    "    polygon={\"shapeOptions\": polygon_style},\n",
    "    rectangle={\"shapeOptions\": rectangle_style},\n",
    "    edit=False,\n",
    "    remove=True,\n",
    "    draw={\"polygon\": {\"allowIntersection\": False}},\n",
    ")\n",
    "m.add_control(draw_control)\n",
    "\n",
    "\n",
    "# List to store the drawn geometries as GeoJSON objects\n",
    "drawn_geometries = []\n",
    "\n",
    "# Function to handle drawing events\n",
    "\n",
    "\n",
    "def handle_draw(event, action, geo_json):\n",
    "    if action == \"created\":\n",
    "        drawn_geometries.append(geo_json)\n",
    "    elif action == \"deleted\":\n",
    "        for drawn_geometry in drawn_geometries:\n",
    "            if drawn_geometry[\"id\"] == event[\"id\"]:\n",
    "                drawn_geometries.remove(drawn_geometry)\n",
    "\n",
    "    # Save the drawn geometries as a GeoJSON file\n",
    "    with open(\"../data/raw/drawn_geometries.geojson\", \"w\") as f:\n",
    "        json.dump(drawn_geometries, f)\n",
    "\n",
    "\n",
    "# Bind the drawing event to the handle_draw function\n",
    "draw_control.on_draw(handle_draw)\n",
    "\n",
    "m"
   ]
  },
  {
   "cell_type": "code",
   "execution_count": 15,
   "metadata": {},
   "outputs": [
    {
     "data": {
      "text/plain": [
       "{'type': 'FeatureCollection',\n",
       " 'columns': {'style': 'Dictionary<Object>', 'system:index': 'String'},\n",
       " 'features': [{'type': 'Feature',\n",
       "   'geometry': {'type': 'Polygon',\n",
       "    'coordinates': [[[-1.083527, 37.817378],\n",
       "      [-0.769043, 37.817378],\n",
       "      [-0.769043, 37.957192],\n",
       "      [-1.083527, 37.957192],\n",
       "      [-1.083527, 37.817378]]]},\n",
       "   'id': '0',\n",
       "   'properties': {'style': {'clickable': True,\n",
       "     'color': 'red',\n",
       "     'fill': True,\n",
       "     'fillColor': None,\n",
       "     'fillOpacity': 0,\n",
       "     'opacity': 0.5,\n",
       "     'stroke': True,\n",
       "     'weight': 4}}}]}"
      ]
     },
     "execution_count": 15,
     "metadata": {},
     "output_type": "execute_result"
    }
   ],
   "source": [
    "# Check the info of the drawn geometries\n",
    "geometry_collection = ee.FeatureCollection(ee.FeatureCollection(drawn_geometries))\n",
    "geometry_collection.getInfo()"
   ]
  },
  {
   "cell_type": "markdown",
   "metadata": {},
   "source": [
    "Extract and plot area based on the drawn geometry"
   ]
  },
  {
   "cell_type": "code",
   "execution_count": 17,
   "metadata": {},
   "outputs": [
    {
     "data": {
      "application/vnd.jupyter.widget-view+json": {
       "model_id": "f75ceba0c9f84389a4bac4a815b0f866",
       "version_major": 2,
       "version_minor": 0
      },
      "text/plain": [
       "Map(center=[38, -0.8], controls=(WidgetControl(options=['position', 'transparent_bg'], widget=HBox(children=(T…"
      ]
     },
     "execution_count": 17,
     "metadata": {},
     "output_type": "execute_result"
    }
   ],
   "source": [
    "lc_2018_aoi = lc_2018.clip(geometry_collection)\n",
    "m_aoi = geemap.Map(center=center, zoom=zoom, basemap=\"CartoDB.PositronNoLabels\")\n",
    "aoi_tile = TileLayer(\n",
    "    url=lc_2018_aoi.sldStyle(sld_ramp).getMapId()[\"tile_fetcher\"].url_format,\n",
    "    attribution=\"Google Earth Engine\",\n",
    "    name=\"Landcover 2018\",\n",
    "    opacity=1.0,\n",
    ")\n",
    "m_aoi.add_layer(aoi_tile)\n",
    "m_aoi"
   ]
  },
  {
   "cell_type": "markdown",
   "metadata": {},
   "source": [
    "### 2.2) Visualized the data by class"
   ]
  },
  {
   "cell_type": "code",
   "execution_count": 18,
   "metadata": {},
   "outputs": [
    {
     "data": {
      "text/html": [
       "<div>\n",
       "<style scoped>\n",
       "    .dataframe tbody tr th:only-of-type {\n",
       "        vertical-align: middle;\n",
       "    }\n",
       "\n",
       "    .dataframe tbody tr th {\n",
       "        vertical-align: top;\n",
       "    }\n",
       "\n",
       "    .dataframe thead th {\n",
       "        text-align: right;\n",
       "    }\n",
       "</style>\n",
       "<table border=\"1\" class=\"dataframe\">\n",
       "  <thead>\n",
       "    <tr style=\"text-align: right;\">\n",
       "      <th></th>\n",
       "      <th>class</th>\n",
       "      <th>Landcover</th>\n",
       "      <th>Color</th>\n",
       "    </tr>\n",
       "  </thead>\n",
       "  <tbody>\n",
       "    <tr>\n",
       "      <th>0</th>\n",
       "      <td>10</td>\n",
       "      <td>Cropland rainfed</td>\n",
       "      <td>#5b5b18</td>\n",
       "    </tr>\n",
       "    <tr>\n",
       "      <th>1</th>\n",
       "      <td>11</td>\n",
       "      <td>Cropland rainfed herbaceous</td>\n",
       "      <td>#7d7617</td>\n",
       "    </tr>\n",
       "    <tr>\n",
       "      <th>2</th>\n",
       "      <td>12</td>\n",
       "      <td>Cropland rainfed tree or shrub</td>\n",
       "      <td>#124d00</td>\n",
       "    </tr>\n",
       "    <tr>\n",
       "      <th>3</th>\n",
       "      <td>20</td>\n",
       "      <td>Cropland irrigation or post-flood</td>\n",
       "      <td>#a09113</td>\n",
       "    </tr>\n",
       "    <tr>\n",
       "      <th>4</th>\n",
       "      <td>30</td>\n",
       "      <td>Mosaic cropland</td>\n",
       "      <td>#c0ab10</td>\n",
       "    </tr>\n",
       "  </tbody>\n",
       "</table>\n",
       "</div>"
      ],
      "text/plain": [
       "  class                          Landcover    Color\n",
       "0    10                   Cropland rainfed  #5b5b18\n",
       "1    11        Cropland rainfed herbaceous  #7d7617\n",
       "2    12     Cropland rainfed tree or shrub  #124d00\n",
       "3    20  Cropland irrigation or post-flood  #a09113\n",
       "4    30                    Mosaic cropland  #c0ab10"
      ]
     },
     "execution_count": 18,
     "metadata": {},
     "output_type": "execute_result"
    }
   ],
   "source": [
    "# Dictionary to store land cover class names and colors\n",
    "landcover_info = {\n",
    "    \"10\": {\"Landcover\": \"Cropland rainfed\", \"Color\": \"#5b5b18\"},\n",
    "    \"11\": {\"Landcover\": \"Cropland rainfed herbaceous\", \"Color\": \"#7d7617\"},\n",
    "    \"12\": {\"Landcover\": \"Cropland rainfed tree or shrub\", \"Color\": \"#124d00\"},\n",
    "    \"20\": {\"Landcover\": \"Cropland irrigation or post-flood\", \"Color\": \"#a09113\"},\n",
    "    \"30\": {\"Landcover\": \"Mosaic cropland\", \"Color\": \"#c0ab10\"},\n",
    "    \"40\": {\"Landcover\": \"Mosaic natural vegetation\", \"Color\": \"#dfc30c\"},\n",
    "    \"50\": {\"Landcover\": \"Tree broadleaved evergreen closed to open\", \"Color\": \"#136010\"},\n",
    "    \"60\": {\"Landcover\": \"Tree broadleaved deciduous closed to open\", \"Color\": \"#117221\"},\n",
    "    \"61\": {\"Landcover\": \"Tree broadleaved deciduous closed\", \"Color\": \"#0b842f\"},\n",
    "    \"62\": {\"Landcover\": \"Tree broadleaved deciduous open\", \"Color\": \"#2a9339\"},\n",
    "    \"70\": {\"Landcover\": \"Tree needle evergreen closed to open\", \"Color\": \"#4aa040\"},\n",
    "    \"80\": {\"Landcover\": \"Tree needle deciduous closed to open\", \"Color\": \"#91c357\"},\n",
    "    \"81\": {\"Landcover\": \"Tree needle deciduous closed\", \"Color\": \"#a5ce5f\"},\n",
    "    \"82\": {\"Landcover\": \"Tree needle deciduous open\", \"Color\": \"#b9d867\"},\n",
    "    \"90\": {\"Landcover\": \"Tree mixed\", \"Color\": \"#cce36f\"},\n",
    "    \"100\": {\"Landcover\": \"Mosaic tree and shrubland\", \"Color\": \"#e0ed78\"},\n",
    "    \"110\": {\"Landcover\": \"Mosaic herbaceous\", \"Color\": \"#967216\"},\n",
    "    \"120\": {\"Landcover\": \"Shrubland\", \"Color\": \"#a67d1a\"},\n",
    "    \"121\": {\"Landcover\": \"Shrubland evergreen\", \"Color\": \"#b6881f\"},\n",
    "    \"122\": {\"Landcover\": \"Shrubland deciduous\", \"Color\": \"#c69323\"},\n",
    "    \"130\": {\"Landcover\": \"Grassland\", \"Color\": \"#d69e27\"},\n",
    "    \"140\": {\"Landcover\": \"Lichens and mosses\", \"Color\": \"#e6a82b\"},\n",
    "    \"150\": {\"Landcover\": \"Sparse vegetation\", \"Color\": \"#f6b148\"},\n",
    "    \"151\": {\"Landcover\": \"Sparse tree\", \"Color\": \"#febc7a\"},\n",
    "    \"152\": {\"Landcover\": \"Sparse shrub\", \"Color\": \"#ffcaaa\"},\n",
    "    \"153\": {\"Landcover\": \"Sparse herbaceous\", \"Color\": \"#f8dcd3\"},\n",
    "    \"160\": {\"Landcover\": \"Tree cover flooded fresh or brackish water\", \"Color\": \"#016a6d\"},\n",
    "    \"170\": {\"Landcover\": \"Tree cover flooded saline water\", \"Color\": \"#42ded5\"},\n",
    "    \"180\": {\"Landcover\": \"Shrub or herb cover flood\", \"Color\": \"#35adad\"},\n",
    "    \"190\": {\"Landcover\": \"Urban\", \"Color\": \"#3640b7\"},\n",
    "    \"200\": {\"Landcover\": \"Bare areas\", \"Color\": \"#df704f\"},\n",
    "    \"201\": {\"Landcover\": \"Bare areas consolidated\", \"Color\": \"#c54802\"},\n",
    "    \"202\": {\"Landcover\": \"Bare areas unconsolidated\", \"Color\": \"#fd9ca7\"},\n",
    "    \"210\": {\"Landcover\": \"Water bodies\", \"Color\": \"#48a7ff\"},\n",
    "    \"220\": {\"Landcover\": \"Snow and ice\", \"Color\": \"#b9eeef\"},\n",
    "}\n",
    "\n",
    "\n",
    "# Create a DataFrame to store the land cover class information\n",
    "landcover_df = pd.DataFrame.from_dict(landcover_info, orient=\"index\")\n",
    "landcover_df.index.name = \"class\"\n",
    "landcover_df.reset_index(inplace=True)\n",
    "landcover_df.head()"
   ]
  },
  {
   "cell_type": "markdown",
   "metadata": {},
   "source": [
    "Compute the count and percentage of pixels for each class"
   ]
  },
  {
   "cell_type": "code",
   "execution_count": 19,
   "metadata": {},
   "outputs": [
    {
     "name": "stdout",
     "output_type": "stream",
     "text": [
      "Total count: 605103.0\n"
     ]
    },
    {
     "data": {
      "text/html": [
       "<div>\n",
       "<style scoped>\n",
       "    .dataframe tbody tr th:only-of-type {\n",
       "        vertical-align: middle;\n",
       "    }\n",
       "\n",
       "    .dataframe tbody tr th {\n",
       "        vertical-align: top;\n",
       "    }\n",
       "\n",
       "    .dataframe thead th {\n",
       "        text-align: right;\n",
       "    }\n",
       "</style>\n",
       "<table border=\"1\" class=\"dataframe\">\n",
       "  <thead>\n",
       "    <tr style=\"text-align: right;\">\n",
       "      <th></th>\n",
       "      <th>class</th>\n",
       "      <th>count</th>\n",
       "      <th>percentage</th>\n",
       "      <th>Landcover</th>\n",
       "      <th>Color</th>\n",
       "    </tr>\n",
       "  </thead>\n",
       "  <tbody>\n",
       "    <tr>\n",
       "      <th>0</th>\n",
       "      <td>10</td>\n",
       "      <td>73861.650980</td>\n",
       "      <td>12.206454</td>\n",
       "      <td>Cropland rainfed</td>\n",
       "      <td>#5b5b18</td>\n",
       "    </tr>\n",
       "    <tr>\n",
       "      <th>1</th>\n",
       "      <td>100</td>\n",
       "      <td>45567.901961</td>\n",
       "      <td>7.530600</td>\n",
       "      <td>Mosaic tree and shrubland</td>\n",
       "      <td>#e0ed78</td>\n",
       "    </tr>\n",
       "    <tr>\n",
       "      <th>2</th>\n",
       "      <td>11</td>\n",
       "      <td>3394.117647</td>\n",
       "      <td>0.560915</td>\n",
       "      <td>Cropland rainfed herbaceous</td>\n",
       "      <td>#7d7617</td>\n",
       "    </tr>\n",
       "    <tr>\n",
       "      <th>3</th>\n",
       "      <td>12</td>\n",
       "      <td>202681.678431</td>\n",
       "      <td>33.495388</td>\n",
       "      <td>Cropland rainfed tree or shrub</td>\n",
       "      <td>#124d00</td>\n",
       "    </tr>\n",
       "    <tr>\n",
       "      <th>4</th>\n",
       "      <td>120</td>\n",
       "      <td>1361.000000</td>\n",
       "      <td>0.224920</td>\n",
       "      <td>Shrubland</td>\n",
       "      <td>#a67d1a</td>\n",
       "    </tr>\n",
       "    <tr>\n",
       "      <th>5</th>\n",
       "      <td>122</td>\n",
       "      <td>651.000000</td>\n",
       "      <td>0.107585</td>\n",
       "      <td>Shrubland deciduous</td>\n",
       "      <td>#c69323</td>\n",
       "    </tr>\n",
       "    <tr>\n",
       "      <th>6</th>\n",
       "      <td>130</td>\n",
       "      <td>43450.070588</td>\n",
       "      <td>7.180605</td>\n",
       "      <td>Grassland</td>\n",
       "      <td>#d69e27</td>\n",
       "    </tr>\n",
       "    <tr>\n",
       "      <th>7</th>\n",
       "      <td>150</td>\n",
       "      <td>2222.000000</td>\n",
       "      <td>0.367210</td>\n",
       "      <td>Sparse vegetation</td>\n",
       "      <td>#f6b148</td>\n",
       "    </tr>\n",
       "    <tr>\n",
       "      <th>8</th>\n",
       "      <td>153</td>\n",
       "      <td>89020.607843</td>\n",
       "      <td>14.711640</td>\n",
       "      <td>Sparse herbaceous</td>\n",
       "      <td>#f8dcd3</td>\n",
       "    </tr>\n",
       "    <tr>\n",
       "      <th>9</th>\n",
       "      <td>190</td>\n",
       "      <td>26043.749020</td>\n",
       "      <td>4.304017</td>\n",
       "      <td>Urban</td>\n",
       "      <td>#3640b7</td>\n",
       "    </tr>\n",
       "    <tr>\n",
       "      <th>10</th>\n",
       "      <td>20</td>\n",
       "      <td>95709.843137</td>\n",
       "      <td>15.817110</td>\n",
       "      <td>Cropland irrigation or post-flood</td>\n",
       "      <td>#a09113</td>\n",
       "    </tr>\n",
       "    <tr>\n",
       "      <th>11</th>\n",
       "      <td>201</td>\n",
       "      <td>751.000000</td>\n",
       "      <td>0.124111</td>\n",
       "      <td>Bare areas consolidated</td>\n",
       "      <td>#c54802</td>\n",
       "    </tr>\n",
       "    <tr>\n",
       "      <th>12</th>\n",
       "      <td>210</td>\n",
       "      <td>2233.325490</td>\n",
       "      <td>0.369082</td>\n",
       "      <td>Water bodies</td>\n",
       "      <td>#48a7ff</td>\n",
       "    </tr>\n",
       "    <tr>\n",
       "      <th>13</th>\n",
       "      <td>30</td>\n",
       "      <td>4817.686275</td>\n",
       "      <td>0.796176</td>\n",
       "      <td>Mosaic cropland</td>\n",
       "      <td>#c0ab10</td>\n",
       "    </tr>\n",
       "    <tr>\n",
       "      <th>14</th>\n",
       "      <td>40</td>\n",
       "      <td>13337.603922</td>\n",
       "      <td>2.204187</td>\n",
       "      <td>Mosaic natural vegetation</td>\n",
       "      <td>#dfc30c</td>\n",
       "    </tr>\n",
       "  </tbody>\n",
       "</table>\n",
       "</div>"
      ],
      "text/plain": [
       "   class          count  percentage                          Landcover  \\\n",
       "0     10   73861.650980   12.206454                   Cropland rainfed   \n",
       "1    100   45567.901961    7.530600          Mosaic tree and shrubland   \n",
       "2     11    3394.117647    0.560915        Cropland rainfed herbaceous   \n",
       "3     12  202681.678431   33.495388     Cropland rainfed tree or shrub   \n",
       "4    120    1361.000000    0.224920                          Shrubland   \n",
       "5    122     651.000000    0.107585                Shrubland deciduous   \n",
       "6    130   43450.070588    7.180605                          Grassland   \n",
       "7    150    2222.000000    0.367210                  Sparse vegetation   \n",
       "8    153   89020.607843   14.711640                  Sparse herbaceous   \n",
       "9    190   26043.749020    4.304017                              Urban   \n",
       "10    20   95709.843137   15.817110  Cropland irrigation or post-flood   \n",
       "11   201     751.000000    0.124111            Bare areas consolidated   \n",
       "12   210    2233.325490    0.369082                       Water bodies   \n",
       "13    30    4817.686275    0.796176                    Mosaic cropland   \n",
       "14    40   13337.603922    2.204187          Mosaic natural vegetation   \n",
       "\n",
       "      Color  \n",
       "0   #5b5b18  \n",
       "1   #e0ed78  \n",
       "2   #7d7617  \n",
       "3   #124d00  \n",
       "4   #a67d1a  \n",
       "5   #c69323  \n",
       "6   #d69e27  \n",
       "7   #f6b148  \n",
       "8   #f8dcd3  \n",
       "9   #3640b7  \n",
       "10  #a09113  \n",
       "11  #c54802  \n",
       "12  #48a7ff  \n",
       "13  #c0ab10  \n",
       "14  #dfc30c  "
      ]
     },
     "execution_count": 19,
     "metadata": {},
     "output_type": "execute_result"
    }
   ],
   "source": [
    "lc_histogram = lc_2018_aoi.reduceRegion(\n",
    "    reducer=ee.Reducer.frequencyHistogram(),\n",
    "    geometry=geometry_collection.geometry(),  # Use the custom geometry as AOI\n",
    "    scale=30,  # Resolution in meters\n",
    ")\n",
    "\n",
    "# Get the landcover class values and their respective counts\n",
    "lc_counts = lc_histogram.get(\"b1\").getInfo()\n",
    "\n",
    "# Calculate the total count of land cover classes\n",
    "total_count = sum(lc_counts.values())\n",
    "print(f\"Total count: {round(total_count, 0)}\")\n",
    "lc_counts_df = pd.DataFrame(lc_counts.items(), columns=[\"class\", \"count\"])\n",
    "lc_counts_df[\"percentage\"] = lc_counts_df[\"count\"] / total_count * 100\n",
    "lc_counts_df = pd.merge(lc_counts_df, landcover_df, on=\"class\", how=\"left\")\n",
    "lc_counts_df"
   ]
  },
  {
   "cell_type": "markdown",
   "metadata": {},
   "source": [
    "### 2.3a) Visualize the data with Matplotlib"
   ]
  },
  {
   "cell_type": "code",
   "execution_count": 21,
   "metadata": {},
   "outputs": [
    {
     "data": {
      "image/png": "[encoded data removed]",
      "text/plain": [
       "<Figure size 800x800 with 1 Axes>"
      ]
     },
     "metadata": {},
     "output_type": "display_data"
    }
   ],
   "source": [
    "threshold = 2  # Hide labels for slices below 2%\n",
    "\n",
    "fig, ax = plt.subplots(figsize=(8, 8))\n",
    "wedges, _, autotexts = ax.pie(\n",
    "    lc_counts_df[\"percentage\"],\n",
    "    labels=[\"\"] * len(lc_counts_df[\"Landcover\"]),\n",
    "    colors=lc_counts_df[\"Color\"],\n",
    "    autopct=lambda pct: f\"{pct:.1f}%\" if pct > threshold else \"\",\n",
    "    startangle=90,\n",
    "    textprops={\"color\": \"k\"},\n",
    ")  # Set labels to empty\n",
    "ax.axis(\"equal\")\n",
    "\n",
    "# Create the legend labels with both category name and percentage\n",
    "legend_labels = [\n",
    "    f\"{label}: {pct:.1f}%\"\n",
    "    for label, pct in zip(lc_counts_df[\"Landcover\"], lc_counts_df[\"percentage\"])\n",
    "]\n",
    "ax.legend(wedges, legend_labels, loc=\"center left\", bbox_to_anchor=(1, 0.5))\n",
    "\n",
    "# Adjust the label font size for better readability\n",
    "for autotext in autotexts:\n",
    "    autotext.set_fontsize(10)\n",
    "\n",
    "plt.show()"
   ]
  },
  {
   "cell_type": "markdown",
   "metadata": {},
   "source": [
    "### 2.3b) Interactive bar plot with plotly"
   ]
  },
  {
   "cell_type": "markdown",
   "metadata": {},
   "source": [
    "Filter and order the dataframe"
   ]
  },
  {
   "cell_type": "code",
   "execution_count": 46,
   "metadata": {},
   "outputs": [
    {
     "data": {
      "text/html": [
       "<div>\n",
       "<style scoped>\n",
       "    .dataframe tbody tr th:only-of-type {\n",
       "        vertical-align: middle;\n",
       "    }\n",
       "\n",
       "    .dataframe tbody tr th {\n",
       "        vertical-align: top;\n",
       "    }\n",
       "\n",
       "    .dataframe thead th {\n",
       "        text-align: right;\n",
       "    }\n",
       "</style>\n",
       "<table border=\"1\" class=\"dataframe\">\n",
       "  <thead>\n",
       "    <tr style=\"text-align: right;\">\n",
       "      <th></th>\n",
       "      <th>class</th>\n",
       "      <th>count</th>\n",
       "      <th>percentage</th>\n",
       "      <th>Landcover</th>\n",
       "      <th>Color</th>\n",
       "    </tr>\n",
       "  </thead>\n",
       "  <tbody>\n",
       "    <tr>\n",
       "      <th>3</th>\n",
       "      <td>12</td>\n",
       "      <td>202681.678431</td>\n",
       "      <td>33.495388</td>\n",
       "      <td>Cropland rainfed tree or shrub</td>\n",
       "      <td>#124D00</td>\n",
       "    </tr>\n",
       "    <tr>\n",
       "      <th>10</th>\n",
       "      <td>20</td>\n",
       "      <td>95709.843137</td>\n",
       "      <td>15.817110</td>\n",
       "      <td>Cropland irrigation or post-flood</td>\n",
       "      <td>#A09113</td>\n",
       "    </tr>\n",
       "    <tr>\n",
       "      <th>8</th>\n",
       "      <td>153</td>\n",
       "      <td>89020.607843</td>\n",
       "      <td>14.711640</td>\n",
       "      <td>Sparse herbaceous</td>\n",
       "      <td>#F8DCD3</td>\n",
       "    </tr>\n",
       "    <tr>\n",
       "      <th>0</th>\n",
       "      <td>10</td>\n",
       "      <td>73861.650980</td>\n",
       "      <td>12.206454</td>\n",
       "      <td>Cropland rainfed</td>\n",
       "      <td>#5B5B18</td>\n",
       "    </tr>\n",
       "    <tr>\n",
       "      <th>1</th>\n",
       "      <td>100</td>\n",
       "      <td>45567.901961</td>\n",
       "      <td>7.530600</td>\n",
       "      <td>Mosaic tree and shrubland</td>\n",
       "      <td>#E0ED78</td>\n",
       "    </tr>\n",
       "    <tr>\n",
       "      <th>6</th>\n",
       "      <td>130</td>\n",
       "      <td>43450.070588</td>\n",
       "      <td>7.180605</td>\n",
       "      <td>Grassland</td>\n",
       "      <td>#D69E27</td>\n",
       "    </tr>\n",
       "    <tr>\n",
       "      <th>9</th>\n",
       "      <td>190</td>\n",
       "      <td>26043.749020</td>\n",
       "      <td>4.304017</td>\n",
       "      <td>Urban</td>\n",
       "      <td>#3640B7</td>\n",
       "    </tr>\n",
       "    <tr>\n",
       "      <th>14</th>\n",
       "      <td>40</td>\n",
       "      <td>13337.603922</td>\n",
       "      <td>2.204187</td>\n",
       "      <td>Mosaic natural vegetation</td>\n",
       "      <td>#DFC30C</td>\n",
       "    </tr>\n",
       "  </tbody>\n",
       "</table>\n",
       "</div>"
      ],
      "text/plain": [
       "   class          count  percentage                          Landcover  \\\n",
       "3     12  202681.678431   33.495388     Cropland rainfed tree or shrub   \n",
       "10    20   95709.843137   15.817110  Cropland irrigation or post-flood   \n",
       "8    153   89020.607843   14.711640                  Sparse herbaceous   \n",
       "0     10   73861.650980   12.206454                   Cropland rainfed   \n",
       "1    100   45567.901961    7.530600          Mosaic tree and shrubland   \n",
       "6    130   43450.070588    7.180605                          Grassland   \n",
       "9    190   26043.749020    4.304017                              Urban   \n",
       "14    40   13337.603922    2.204187          Mosaic natural vegetation   \n",
       "\n",
       "      Color  \n",
       "3   #124D00  \n",
       "10  #A09113  \n",
       "8   #F8DCD3  \n",
       "0   #5B5B18  \n",
       "1   #E0ED78  \n",
       "6   #D69E27  \n",
       "9   #3640B7  \n",
       "14  #DFC30C  "
      ]
     },
     "execution_count": 46,
     "metadata": {},
     "output_type": "execute_result"
    }
   ],
   "source": [
    "threshold = 2\n",
    "df_thres = lc_counts_df[lc_counts_df[\"percentage\"] > threshold]\n",
    "df_thres = df_thres.sort_values(by=\"percentage\", ascending=False)\n",
    "df_thres[\"Color\"] = df_thres[\"Color\"].str.upper()\n",
    "df_thres"
   ]
  },
  {
   "cell_type": "markdown",
   "metadata": {},
   "source": [
    "Generate plot"
   ]
  },
  {
   "cell_type": "code",
   "execution_count": 50,
   "metadata": {},
   "outputs": [
    {
     "data": {
      "application/vnd.plotly.v1+json": {
       "config": {
        "plotlyServerURL": "https://plot.ly"
       },
       "data": [
        {
         "alignmentgroup": "True",
         "customdata": [
          [
           202681.6784313723,
           "#124D00"
          ]
         ],
         "hovertemplate": "Landcover class=%{x}<br>Percentage=%{text:.2f%}<br>count=%{customdata[0]}<extra></extra>",
         "legendgroup": "Cropland rainfed tree or shrub",
         "marker": {
          "color": "#124D00",
          "pattern": {
           "shape": ""
          }
         },
         "name": "Cropland rainfed tree or shrub",
         "offsetgroup": "Cropland rainfed tree or shrub",
         "orientation": "v",
         "showlegend": true,
         "text": [
          33.49538832540804
         ],
         "textposition": "outside",
         "texttemplate": "%{text:.2s}%",
         "type": "bar",
         "x": [
          "Cropland rainfed tree or shrub"
         ],
         "xaxis": "x",
         "y": [
          33.49538832540804
         ],
         "yaxis": "y"
        },
        {
         "alignmentgroup": "True",
         "customdata": [
          [
           95709.84313725497,
           "#A09113"
          ]
         ],
         "hovertemplate": "Landcover class=%{x}<br>Percentage=%{text:.2f%}<br>count=%{customdata[0]}<extra></extra>",
         "legendgroup": "Cropland irrigation or post-flood",
         "marker": {
          "color": "#A09113",
          "pattern": {
           "shape": ""
          }
         },
         "name": "Cropland irrigation or post-flood",
         "offsetgroup": "Cropland irrigation or post-flood",
         "orientation": "v",
         "showlegend": true,
         "text": [
          15.817109801228217
         ],
         "textposition": "outside",
         "texttemplate": "%{text:.2s}%",
         "type": "bar",
         "x": [
          "Cropland irrigation or post-flood"
         ],
         "xaxis": "x",
         "y": [
          15.817109801228217
         ],
         "yaxis": "y"
        },
        {
         "alignmentgroup": "True",
         "customdata": [
          [
           89020.60784313726,
           "#F8DCD3"
          ]
         ],
         "hovertemplate": "Landcover class=%{x}<br>Percentage=%{text:.2f%}<br>count=%{customdata[0]}<extra></extra>",
         "legendgroup": "Sparse herbaceous",
         "marker": {
          "color": "#F8DCD3",
          "pattern": {
           "shape": ""
          }
         },
         "name": "Sparse herbaceous",
         "offsetgroup": "Sparse herbaceous",
         "orientation": "v",
         "showlegend": true,
         "text": [
          14.71163970886186
         ],
         "textposition": "outside",
         "texttemplate": "%{text:.2s}%",
         "type": "bar",
         "x": [
          "Sparse herbaceous"
         ],
         "xaxis": "x",
         "y": [
          14.71163970886186
         ],
         "yaxis": "y"
        },
        {
         "alignmentgroup": "True",
         "customdata": [
          [
           73861.65098039237,
           "#5B5B18"
          ]
         ],
         "hovertemplate": "Landcover class=%{x}<br>Percentage=%{text:.2f%}<br>count=%{customdata[0]}<extra></extra>",
         "legendgroup": "Cropland rainfed",
         "marker": {
          "color": "#5B5B18",
          "pattern": {
           "shape": ""
          }
         },
         "name": "Cropland rainfed",
         "offsetgroup": "Cropland rainfed",
         "orientation": "v",
         "showlegend": true,
         "text": [
          12.206454481191296
         ],
         "textposition": "outside",
         "texttemplate": "%{text:.2s}%",
         "type": "bar",
         "x": [
          "Cropland rainfed"
         ],
         "xaxis": "x",
         "y": [
          12.206454481191296
         ],
         "yaxis": "y"
        },
        {
         "alignmentgroup": "True",
         "customdata": [
          [
           45567.90196078434,
           "#E0ED78"
          ]
         ],
         "hovertemplate": "Landcover class=%{x}<br>Percentage=%{text:.2f%}<br>count=%{customdata[0]}<extra></extra>",
         "legendgroup": "Mosaic tree and shrubland",
         "marker": {
          "color": "#E0ED78",
          "pattern": {
           "shape": ""
          }
         },
         "name": "Mosaic tree and shrubland",
         "offsetgroup": "Mosaic tree and shrubland",
         "orientation": "v",
         "showlegend": true,
         "text": [
          7.5305996238204695
         ],
         "textposition": "outside",
         "texttemplate": "%{text:.2s}%",
         "type": "bar",
         "x": [
          "Mosaic tree and shrubland"
         ],
         "xaxis": "x",
         "y": [
          7.5305996238204695
         ],
         "yaxis": "y"
        },
        {
         "alignmentgroup": "True",
         "customdata": [
          [
           43450.07058823552,
           "#D69E27"
          ]
         ],
         "hovertemplate": "Landcover class=%{x}<br>Percentage=%{text:.2f%}<br>count=%{customdata[0]}<extra></extra>",
         "legendgroup": "Grassland",
         "marker": {
          "color": "#D69E27",
          "pattern": {
           "shape": ""
          }
         },
         "name": "Grassland",
         "offsetgroup": "Grassland",
         "orientation": "v",
         "showlegend": true,
         "text": [
          7.180604573551168
         ],
         "textposition": "outside",
         "texttemplate": "%{text:.2s}%",
         "type": "bar",
         "x": [
          "Grassland"
         ],
         "xaxis": "x",
         "y": [
          7.180604573551168
         ],
         "yaxis": "y"
        },
        {
         "alignmentgroup": "True",
         "customdata": [
          [
           26043.74901960788,
           "#3640B7"
          ]
         ],
         "hovertemplate": "Landcover class=%{x}<br>Percentage=%{text:.2f%}<br>count=%{customdata[0]}<extra></extra>",
         "legendgroup": "Urban",
         "marker": {
          "color": "#3640B7",
          "pattern": {
           "shape": ""
          }
         },
         "name": "Urban",
         "offsetgroup": "Urban",
         "orientation": "v",
         "showlegend": true,
         "text": [
          4.3040174800832105
         ],
         "textposition": "outside",
         "texttemplate": "%{text:.2s}%",
         "type": "bar",
         "x": [
          "Urban"
         ],
         "xaxis": "x",
         "y": [
          4.3040174800832105
         ],
         "yaxis": "y"
        },
        {
         "alignmentgroup": "True",
         "customdata": [
          [
           13337.603921568627,
           "#DFC30C"
          ]
         ],
         "hovertemplate": "Landcover class=%{x}<br>Percentage=%{text:.2f%}<br>count=%{customdata[0]}<extra></extra>",
         "legendgroup": "Mosaic natural vegetation",
         "marker": {
          "color": "#DFC30C",
          "pattern": {
           "shape": ""
          }
         },
         "name": "Mosaic natural vegetation",
         "offsetgroup": "Mosaic natural vegetation",
         "orientation": "v",
         "showlegend": true,
         "text": [
          2.2041865162207763
         ],
         "textposition": "outside",
         "texttemplate": "%{text:.2s}%",
         "type": "bar",
         "x": [
          "Mosaic natural vegetation"
         ],
         "xaxis": "x",
         "y": [
          2.2041865162207763
         ],
         "yaxis": "y"
        }
       ],
       "layout": {
        "barmode": "relative",
        "height": 500,
        "legend": {
         "title": {
          "text": "Landcover class"
         },
         "tracegroupgap": 0
        },
        "showlegend": false,
        "template": {
         "data": {
          "bar": [
           {
            "error_x": {
             "color": "#2a3f5f"
            },
            "error_y": {
             "color": "#2a3f5f"
            },
            "marker": {
             "line": {
              "color": "#E5ECF6",
              "width": 0.5
             },
             "pattern": {
              "fillmode": "overlay",
              "size": 10,
              "solidity": 0.2
             }
            },
            "type": "bar"
           }
          ],
          "barpolar": [
           {
            "marker": {
             "line": {
              "color": "#E5ECF6",
              "width": 0.5
             },
             "pattern": {
              "fillmode": "overlay",
              "size": 10,
              "solidity": 0.2
             }
            },
            "type": "barpolar"
           }
          ],
          "carpet": [
           {
            "aaxis": {
             "endlinecolor": "#2a3f5f",
             "gridcolor": "white",
             "linecolor": "white",
             "minorgridcolor": "white",
             "startlinecolor": "#2a3f5f"
            },
            "baxis": {
             "endlinecolor": "#2a3f5f",
             "gridcolor": "white",
             "linecolor": "white",
             "minorgridcolor": "white",
             "startlinecolor": "#2a3f5f"
            },
            "type": "carpet"
           }
          ],
          "choropleth": [
           {
            "colorbar": {
             "outlinewidth": 0,
             "ticks": ""
            },
            "type": "choropleth"
           }
          ],
          "contour": [
           {
            "colorbar": {
             "outlinewidth": 0,
             "ticks": ""
            },
            "colorscale": [
             [
              0,
              "#0d0887"
             ],
             [
              0.1111111111111111,
              "#46039f"
             ],
             [
              0.2222222222222222,
              "#7201a8"
             ],
             [
              0.3333333333333333,
              "#9c179e"
             ],
             [
              0.4444444444444444,
              "#bd3786"
             ],
             [
              0.5555555555555556,
              "#d8576b"
             ],
             [
              0.6666666666666666,
              "#ed7953"
             ],
             [
              0.7777777777777778,
              "#fb9f3a"
             ],
             [
              0.8888888888888888,
              "#fdca26"
             ],
             [
              1,
              "#f0f921"
             ]
            ],
            "type": "contour"
           }
          ],
          "contourcarpet": [
           {
            "colorbar": {
             "outlinewidth": 0,
             "ticks": ""
            },
            "type": "contourcarpet"
           }
          ],
          "heatmap": [
           {
            "colorbar": {
             "outlinewidth": 0,
             "ticks": ""
            },
            "colorscale": [
             [
              0,
              "#0d0887"
             ],
             [
              0.1111111111111111,
              "#46039f"
             ],
             [
              0.2222222222222222,
              "#7201a8"
             ],
             [
              0.3333333333333333,
              "#9c179e"
             ],
             [
              0.4444444444444444,
              "#bd3786"
             ],
             [
              0.5555555555555556,
              "#d8576b"
             ],
             [
              0.6666666666666666,
              "#ed7953"
             ],
             [
              0.7777777777777778,
              "#fb9f3a"
             ],
             [
              0.8888888888888888,
              "#fdca26"
             ],
             [
              1,
              "#f0f921"
             ]
            ],
            "type": "heatmap"
           }
          ],
          "heatmapgl": [
           {
            "colorbar": {
             "outlinewidth": 0,
             "ticks": ""
            },
            "colorscale": [
             [
              0,
              "#0d0887"
             ],
             [
              0.1111111111111111,
              "#46039f"
             ],
             [
              0.2222222222222222,
              "#7201a8"
             ],
             [
              0.3333333333333333,
              "#9c179e"
             ],
             [
              0.4444444444444444,
              "#bd3786"
             ],
             [
              0.5555555555555556,
              "#d8576b"
             ],
             [
              0.6666666666666666,
              "#ed7953"
             ],
             [
              0.7777777777777778,
              "#fb9f3a"
             ],
             [
              0.8888888888888888,
              "#fdca26"
             ],
             [
              1,
              "#f0f921"
             ]
            ],
            "type": "heatmapgl"
           }
          ],
          "histogram": [
           {
            "marker": {
             "pattern": {
              "fillmode": "overlay",
              "size": 10,
              "solidity": 0.2
             }
            },
            "type": "histogram"
           }
          ],
          "histogram2d": [
           {
            "colorbar": {
             "outlinewidth": 0,
             "ticks": ""
            },
            "colorscale": [
             [
              0,
              "#0d0887"
             ],
             [
              0.1111111111111111,
              "#46039f"
             ],
             [
              0.2222222222222222,
              "#7201a8"
             ],
             [
              0.3333333333333333,
              "#9c179e"
             ],
             [
              0.4444444444444444,
              "#bd3786"
             ],
             [
              0.5555555555555556,
              "#d8576b"
             ],
             [
              0.6666666666666666,
              "#ed7953"
             ],
             [
              0.7777777777777778,
              "#fb9f3a"
             ],
             [
              0.8888888888888888,
              "#fdca26"
             ],
             [
              1,
              "#f0f921"
             ]
            ],
            "type": "histogram2d"
           }
          ],
          "histogram2dcontour": [
           {
            "colorbar": {
             "outlinewidth": 0,
             "ticks": ""
            },
            "colorscale": [
             [
              0,
              "#0d0887"
             ],
             [
              0.1111111111111111,
              "#46039f"
             ],
             [
              0.2222222222222222,
              "#7201a8"
             ],
             [
              0.3333333333333333,
              "#9c179e"
             ],
             [
              0.4444444444444444,
              "#bd3786"
             ],
             [
              0.5555555555555556,
              "#d8576b"
             ],
             [
              0.6666666666666666,
              "#ed7953"
             ],
             [
              0.7777777777777778,
              "#fb9f3a"
             ],
             [
              0.8888888888888888,
              "#fdca26"
             ],
             [
              1,
              "#f0f921"
             ]
            ],
            "type": "histogram2dcontour"
           }
          ],
          "mesh3d": [
           {
            "colorbar": {
             "outlinewidth": 0,
             "ticks": ""
            },
            "type": "mesh3d"
           }
          ],
          "parcoords": [
           {
            "line": {
             "colorbar": {
              "outlinewidth": 0,
              "ticks": ""
             }
            },
            "type": "parcoords"
           }
          ],
          "pie": [
           {
            "automargin": true,
            "type": "pie"
           }
          ],
          "scatter": [
           {
            "fillpattern": {
             "fillmode": "overlay",
             "size": 10,
             "solidity": 0.2
            },
            "type": "scatter"
           }
          ],
          "scatter3d": [
           {
            "line": {
             "colorbar": {
              "outlinewidth": 0,
              "ticks": ""
             }
            },
            "marker": {
             "colorbar": {
              "outlinewidth": 0,
              "ticks": ""
             }
            },
            "type": "scatter3d"
           }
          ],
          "scattercarpet": [
           {
            "marker": {
             "colorbar": {
              "outlinewidth": 0,
              "ticks": ""
             }
            },
            "type": "scattercarpet"
           }
          ],
          "scattergeo": [
           {
            "marker": {
             "colorbar": {
              "outlinewidth": 0,
              "ticks": ""
             }
            },
            "type": "scattergeo"
           }
          ],
          "scattergl": [
           {
            "marker": {
             "colorbar": {
              "outlinewidth": 0,
              "ticks": ""
             }
            },
            "type": "scattergl"
           }
          ],
          "scattermapbox": [
           {
            "marker": {
             "colorbar": {
              "outlinewidth": 0,
              "ticks": ""
             }
            },
            "type": "scattermapbox"
           }
          ],
          "scatterpolar": [
           {
            "marker": {
             "colorbar": {
              "outlinewidth": 0,
              "ticks": ""
             }
            },
            "type": "scatterpolar"
           }
          ],
          "scatterpolargl": [
           {
            "marker": {
             "colorbar": {
              "outlinewidth": 0,
              "ticks": ""
             }
            },
            "type": "scatterpolargl"
           }
          ],
          "scatterternary": [
           {
            "marker": {
             "colorbar": {
              "outlinewidth": 0,
              "ticks": ""
             }
            },
            "type": "scatterternary"
           }
          ],
          "surface": [
           {
            "colorbar": {
             "outlinewidth": 0,
             "ticks": ""
            },
            "colorscale": [
             [
              0,
              "#0d0887"
             ],
             [
              0.1111111111111111,
              "#46039f"
             ],
             [
              0.2222222222222222,
              "#7201a8"
             ],
             [
              0.3333333333333333,
              "#9c179e"
             ],
             [
              0.4444444444444444,
              "#bd3786"
             ],
             [
              0.5555555555555556,
              "#d8576b"
             ],
             [
              0.6666666666666666,
              "#ed7953"
             ],
             [
              0.7777777777777778,
              "#fb9f3a"
             ],
             [
              0.8888888888888888,
              "#fdca26"
             ],
             [
              1,
              "#f0f921"
             ]
            ],
            "type": "surface"
           }
          ],
          "table": [
           {
            "cells": {
             "fill": {
              "color": "#EBF0F8"
             },
             "line": {
              "color": "white"
             }
            },
            "header": {
             "fill": {
              "color": "#C8D4E3"
             },
             "line": {
              "color": "white"
             }
            },
            "type": "table"
           }
          ]
         },
         "layout": {
          "annotationdefaults": {
           "arrowcolor": "#2a3f5f",
           "arrowhead": 0,
           "arrowwidth": 1
          },
          "autotypenumbers": "strict",
          "coloraxis": {
           "colorbar": {
            "outlinewidth": 0,
            "ticks": ""
           }
          },
          "colorscale": {
           "diverging": [
            [
             0,
             "#8e0152"
            ],
            [
             0.1,
             "#c51b7d"
            ],
            [
             0.2,
             "#de77ae"
            ],
            [
             0.3,
             "#f1b6da"
            ],
            [
             0.4,
             "#fde0ef"
            ],
            [
             0.5,
             "#f7f7f7"
            ],
            [
             0.6,
             "#e6f5d0"
            ],
            [
             0.7,
             "#b8e186"
            ],
            [
             0.8,
             "#7fbc41"
            ],
            [
             0.9,
             "#4d9221"
            ],
            [
             1,
             "#276419"
            ]
           ],
           "sequential": [
            [
             0,
             "#0d0887"
            ],
            [
             0.1111111111111111,
             "#46039f"
            ],
            [
             0.2222222222222222,
             "#7201a8"
            ],
            [
             0.3333333333333333,
             "#9c179e"
            ],
            [
             0.4444444444444444,
             "#bd3786"
            ],
            [
             0.5555555555555556,
             "#d8576b"
            ],
            [
             0.6666666666666666,
             "#ed7953"
            ],
            [
             0.7777777777777778,
             "#fb9f3a"
            ],
            [
             0.8888888888888888,
             "#fdca26"
            ],
            [
             1,
             "#f0f921"
            ]
           ],
           "sequentialminus": [
            [
             0,
             "#0d0887"
            ],
            [
             0.1111111111111111,
             "#46039f"
            ],
            [
             0.2222222222222222,
             "#7201a8"
            ],
            [
             0.3333333333333333,
             "#9c179e"
            ],
            [
             0.4444444444444444,
             "#bd3786"
            ],
            [
             0.5555555555555556,
             "#d8576b"
            ],
            [
             0.6666666666666666,
             "#ed7953"
            ],
            [
             0.7777777777777778,
             "#fb9f3a"
            ],
            [
             0.8888888888888888,
             "#fdca26"
            ],
            [
             1,
             "#f0f921"
            ]
           ]
          },
          "colorway": [
           "#636efa",
           "#EF553B",
           "#00cc96",
           "#ab63fa",
           "#FFA15A",
           "#19d3f3",
           "#FF6692",
           "#B6E880",
           "#FF97FF",
           "#FECB52"
          ],
          "font": {
           "color": "#2a3f5f"
          },
          "geo": {
           "bgcolor": "white",
           "lakecolor": "white",
           "landcolor": "#E5ECF6",
           "showlakes": true,
           "showland": true,
           "subunitcolor": "white"
          },
          "hoverlabel": {
           "align": "left"
          },
          "hovermode": "closest",
          "mapbox": {
           "style": "light"
          },
          "paper_bgcolor": "white",
          "plot_bgcolor": "#E5ECF6",
          "polar": {
           "angularaxis": {
            "gridcolor": "white",
            "linecolor": "white",
            "ticks": ""
           },
           "bgcolor": "#E5ECF6",
           "radialaxis": {
            "gridcolor": "white",
            "linecolor": "white",
            "ticks": ""
           }
          },
          "scene": {
           "xaxis": {
            "backgroundcolor": "#E5ECF6",
            "gridcolor": "white",
            "gridwidth": 2,
            "linecolor": "white",
            "showbackground": true,
            "ticks": "",
            "zerolinecolor": "white"
           },
           "yaxis": {
            "backgroundcolor": "#E5ECF6",
            "gridcolor": "white",
            "gridwidth": 2,
            "linecolor": "white",
            "showbackground": true,
            "ticks": "",
            "zerolinecolor": "white"
           },
           "zaxis": {
            "backgroundcolor": "#E5ECF6",
            "gridcolor": "white",
            "gridwidth": 2,
            "linecolor": "white",
            "showbackground": true,
            "ticks": "",
            "zerolinecolor": "white"
           }
          },
          "shapedefaults": {
           "line": {
            "color": "#2a3f5f"
           }
          },
          "ternary": {
           "aaxis": {
            "gridcolor": "white",
            "linecolor": "white",
            "ticks": ""
           },
           "baxis": {
            "gridcolor": "white",
            "linecolor": "white",
            "ticks": ""
           },
           "bgcolor": "#E5ECF6",
           "caxis": {
            "gridcolor": "white",
            "linecolor": "white",
            "ticks": ""
           }
          },
          "title": {
           "x": 0.05
          },
          "xaxis": {
           "automargin": true,
           "gridcolor": "white",
           "linecolor": "white",
           "ticks": "",
           "title": {
            "standoff": 15
           },
           "zerolinecolor": "white",
           "zerolinewidth": 2
          },
          "yaxis": {
           "automargin": true,
           "gridcolor": "white",
           "linecolor": "white",
           "ticks": "",
           "title": {
            "standoff": 15
           },
           "zerolinecolor": "white",
           "zerolinewidth": 2
          }
         }
        },
        "title": {
         "text": "Distribution of main Landcover classes in the AOI"
        },
        "width": 800,
        "xaxis": {
         "anchor": "y",
         "categoryarray": [
          "Cropland rainfed tree or shrub",
          "Cropland irrigation or post-flood",
          "Sparse herbaceous",
          "Cropland rainfed",
          "Mosaic tree and shrubland",
          "Grassland",
          "Urban",
          "Mosaic natural vegetation"
         ],
         "categoryorder": "array",
         "domain": [
          0,
          1
         ],
         "title": {
          "text": "Landcover class"
         }
        },
        "yaxis": {
         "anchor": "x",
         "domain": [
          0,
          1
         ],
         "range": [
          0,
          38.49538832540804
         ],
         "title": {
          "text": "Percentage"
         }
        }
       }
      }
     },
     "metadata": {},
     "output_type": "display_data"
    }
   ],
   "source": [
    "fig = px.bar(\n",
    "    df_thres,\n",
    "    x=\"Landcover\",\n",
    "    y=\"percentage\",\n",
    "    color=\"Landcover\",\n",
    "    text=\"percentage\",\n",
    "    title=\"Distribution of main Landcover classes in the AOI\",\n",
    "    labels={\"percentage\": \"Percentage\", \"Landcover\": \"Landcover class\"},\n",
    "    hover_data={\n",
    "        \"Landcover\": True,\n",
    "        \"percentage\": \":.2f%\",\n",
    "        \"count\": True,\n",
    "        \"Color\": False,\n",
    "    },  # To Fix: decimal positions\n",
    "    color_discrete_map=dict(zip(df_thres[\"Landcover\"], df_thres[\"Color\"])),\n",
    ")  # Get colors from hex values\n",
    "\n",
    "fig.update_traces(\n",
    "    texttemplate=\"%{text:.2s}%\", textposition=\"outside\"\n",
    ")  # Add percentage values to the bars\n",
    "\n",
    "fig.update_layout(yaxis_title=\"Percentage\", showlegend=False, height=500, width=800)\n",
    "fig.update_yaxes(\n",
    "    range=[0, df_thres[\"percentage\"].max() + 5]\n",
    ")  # Get some extra space on top of the bars\n",
    "\n",
    "fig.show()"
   ]
  },
  {
   "cell_type": "code",
   "execution_count": null,
   "metadata": {},
   "outputs": [],
   "source": []
  }
 ],
 "metadata": {
  "kernelspec": {
   "display_name": "ds_challenge",
   "language": "python",
   "name": "python3"
  },
  "language_info": {
   "codemirror_mode": {
    "name": "ipython",
    "version": 3
   },
   "file_extension": ".py",
   "mimetype": "text/x-python",
   "name": "python",
   "nbconvert_exporter": "python",
   "pygments_lexer": "ipython3",
   "version": "3.11.4"
  },
  "orig_nbformat": 4
 },
 "nbformat": 4,
 "nbformat_minor": 2
}
